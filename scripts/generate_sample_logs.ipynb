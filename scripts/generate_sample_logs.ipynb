{
 "cells": [
  {
   "cell_type": "code",
   "execution_count": 0,
   "metadata": {
    "application/vnd.databricks.v1+cell": {
     "cellMetadata": {
      "byteLimit": 2048000,
      "rowLimit": 10000
     },
     "inputWidgets": {},
     "nuid": "24dfab8c-1c2f-40ae-8ddd-af796856db5f",
     "showTitle": false,
     "title": ""
    }
   },
   "outputs": [],
   "source": [
    "import random\n",
    "from datetime import datetime, timedelta\n",
    "import numpy as np\n",
    "\n"
   ]
  },
  {
   "cell_type": "code",
   "execution_count": 0,
   "metadata": {
    "application/vnd.databricks.v1+cell": {
     "cellMetadata": {
      "byteLimit": 2048000,
      "rowLimit": 10000
     },
     "inputWidgets": {},
     "nuid": "627cf48f-2a1b-4e3c-b4c6-b4347b1a1b64",
     "showTitle": false,
     "title": ""
    }
   },
   "outputs": [],
   "source": [
    "def generate_ip() -> str:\n",
    "    \"\"\"\n",
    "    Gera um IP aleatório dentro de um range de 10.100.0.0 a 10.100.255.255\n",
    "    \"\"\"\n",
    "    return '10.100.' + '.'.join(str(random.randint(0, 255)) for _ in range(2))\n",
    "\n",
    "def generate_timestamp() -> datetime:\n",
    "    \"\"\"\n",
    "    Gera uma data e hora aleatória dentro do range de 2000-01-01 a 2024-01-01\n",
    "    \"\"\"\n",
    "    start = datetime(2000, 1, 1)\n",
    "    end = datetime(2024, 1, 1)\n",
    "    fusos = ['-0700', '-0800', '-0900']\n",
    "    random_time = start + (end - start) * random.random()\n",
    "    return random_time.strftime(f\"[%d/%b/%Y:%H:%M:%S {random.choice(fusos)}]\")"
   ]
  },
  {
   "cell_type": "code",
   "execution_count": 0,
   "metadata": {
    "application/vnd.databricks.v1+cell": {
     "cellMetadata": {
      "byteLimit": 2048000,
      "rowLimit": 10000
     },
     "inputWidgets": {},
     "nuid": "f84bf134-e035-470a-935d-a97cadffe679",
     "showTitle": false,
     "title": ""
    }
   },
   "outputs": [],
   "source": [
    "# Gerar requisições HTTP aleatórias\n",
    "http_methods = [\"GET\", \"POST\", \"PUT\", \"DELETE\"]\n",
    "resources = [\n",
    "    \"/assets/js/javascript_combined.js\", \"/assets/img/home-logo.png\",\n",
    "    \"/images/filmmediablock/696/hyakka_PV_000011.jpg\", \"/favicon.ico\", \"/\",\n",
    "    '/scripts/login.gif','/scripts/header.css','/media/header.jpg','/resources/header.gif',\n",
    "    '/static/login.png','/uploads/profile.js','/uploads/user.svg', '/assets/home.png','/scripts/favicon.json',\n",
    "    '/media/contact.js','/uploads/login.json','/styles/product.xml','/api/app.html','/media/banner.json',\n",
    "    '/assets/home.html','/assets/search.html','/resources/home.ico','/scripts/home.ico','/styles/product.html',\n",
    "    '/api/product.js','/data/script.svg','/resources/banner.json','/scripts/search.xml','/styles/profile.xml',\n",
    "    '/data/footer.json','/data/background.html','/assets/favicon.png','/static/login.ico','/scripts/register.gif',\n",
    "    '/uploads/footer.xml','/styles/user.svg','/images/style.json','/styles/script.svg','/images/script.gif',\n",
    "    '/uploads/style.png', '/resources/script.xml', '/resources/favicon.ico', '/static/footer.jpg', '/scripts/icon.jpg',\n",
    "    '/images/footer.jpg','/static/search.js','/static/home.css','/api/login.png','/assets/profile.png',\n",
    "    '/resources/style.svg', '/images/contact.xml', '/styles/banner.js', '/images/favicon.css', '/assets/register.jpg',\n",
    "    '/scripts/style.xml','/api/product.gif','/images/contact.jpg','/resources/contact.xml','/uploads/home.html',\n",
    "    '/api/header.css','/images/home.xml','/uploads/banner.html','/assets/main.png','/uploads/style.xml',\n",
    "    '/api/logo.xml', '/media/profile.gif', '/images/icon.ico', '/uploads/background.gif', '/images/banner.gif',\n",
    "    '/styles/search.gif','/uploads/script.svg','/assets/login.svg','/uploads/search.jpg','/api/footer.gif',\n",
    "    '/images/about.json','/images/script.css','/images/profile.svg','/data/home.xml','/static/product.xml',\n",
    "    '/static/script.svg', '/images/footer.js', '/scripts/profile.xml', '/assets/background.js', '/data/banner.jpg',\n",
    "    '/resources/home.xml','/media/script.xml','/uploads/profile.html','/images/footer.ico','/scripts/script.ico',\n",
    "    '/resources/home.svg', '/assets/home.jpg', '/styles/contact.html', '/assets/script.jpg', '/images/about.ico',\n",
    "    '/data/favicon.js', '/static/background.xml', '/data/header.gif', '/styles/home.svg', '/api/register.png',\n",
    "    '/api/about.svg', '/resources/profile.css', '/data/register.png', '/resources/register.html', '/api/user.css',\n",
    "    '/media/search.svg']\n",
    "\n",
    "http_versions = [\"HTTP/1.0\", \"HTTP/1.1\", \"HTTP/2.0\"]\n",
    "\n",
    "def generate_http_request() -> str:\n",
    "    \"\"\"\n",
    "    Gera uma requisição HTTP aleatória baseada nos métodos, recursos e versão HTTP\n",
    "    \"\"\"\n",
    "    return f'\"{random.choice(http_methods)} {random.choice(resources)} {random.choice(http_versions)}\"'\n",
    "\n",
    "\n",
    "def generate_response_code_and_size() -> str:\n",
    "    \"\"\"\n",
    "    Gera um código de resposta HTTP aleatório e um tamanho de resposta aleatório.\n",
    "    \"\"\"\n",
    "    status_codes = [200, 301, 304, 404, 500]\n",
    "    code = random.choice(status_codes)\n",
    "    size = random.randint(100, 1000000) if code == 200 else '-'\n",
    "    return f'{code} {size}'\n",
    "\n",
    "\n",
    "def generate_log_entry() -> str:\n",
    "    \"\"\"\n",
    "    Gera uma entrada de log aleatória, baseadas nas funções anteriores.\n",
    "    \"\"\"\n",
    "    ip = generate_ip()\n",
    "    timestamp = generate_timestamp()\n",
    "    http_request = generate_http_request()\n",
    "    response = generate_response_code_and_size()\n",
    "    return f'{ip} - - {timestamp} {http_request} {response}'\n",
    "\n",
    "quantidade_de_arquivos = 200\n",
    "for i in range(quantidade_de_arquivos):\n",
    "    # Criar arquivo com 1 milhão de linhas\n",
    "    lines = [generate_log_entry() for _ in range(1_000_000)]\n",
    "\n",
    "    # Escrever em um arquivo .txt\n",
    "    with open(f'/dbfs/mnt/data/data-ingestion/log_sample_1M_{i}.txt', 'w') as file:\n",
    "        file.write(\"\\n\".join(lines))\n",
    "\n"
   ]
  }
 ],
 "metadata": {
  "application/vnd.databricks.v1+notebook": {
   "dashboards": [],
   "environmentMetadata": null,
   "language": "python",
   "notebookMetadata": {
    "pythonIndentUnit": 4
   },
   "notebookName": "generate_sample_logs",
   "widgets": {}
  },
  "kernelspec": {
   "display_name": "Python 3",
   "language": "python",
   "name": "python3"
  },
  "language_info": {
   "codemirror_mode": {
    "name": "ipython",
    "version": 3
   },
   "file_extension": ".py",
   "mimetype": "text/x-python",
   "name": "python",
   "nbconvert_exporter": "python",
   "pygments_lexer": "ipython3",
   "version": "3.11.9"
  }
 },
 "nbformat": 4,
 "nbformat_minor": 0
}
