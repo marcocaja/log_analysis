{
 "cells": [
  {
   "cell_type": "code",
   "execution_count": 2,
   "metadata": {},
   "outputs": [
    {
     "name": "stdout",
     "output_type": "stream",
     "text": [
      "Requirement already satisfied: pyspark in /usr/local/python/3.12.1/lib/python3.12/site-packages (3.5.3)\n",
      "Requirement already satisfied: py4j==0.10.9.7 in /usr/local/python/3.12.1/lib/python3.12/site-packages (from pyspark) (0.10.9.7)\n"
     ]
    }
   ],
   "source": [
    "!pip install pyspark"
   ]
  },
  {
   "cell_type": "code",
   "execution_count": 3,
   "metadata": {},
   "outputs": [
    {
     "name": "stderr",
     "output_type": "stream",
     "text": [
      "24/10/15 14:12:03 WARN Utils: Your hostname, codespaces-91aca3 resolves to a loopback address: 127.0.0.1; using 10.0.0.202 instead (on interface eth0)\n",
      "24/10/15 14:12:03 WARN Utils: Set SPARK_LOCAL_IP if you need to bind to another address\n",
      "Setting default log level to \"WARN\".\n",
      "To adjust logging level use sc.setLogLevel(newLevel). For SparkR, use setLogLevel(newLevel).\n",
      "24/10/15 14:12:06 WARN NativeCodeLoader: Unable to load native-hadoop library for your platform... using builtin-java classes where applicable\n"
     ]
    }
   ],
   "source": [
    "from pyspark.sql import SparkSession\n",
    "import pyspark.sql.functions as f\n",
    "\n",
    "spark = (SparkSession\n",
    "         .builder\n",
    "         .appName('LOG_ANALYSIS_SANTANDER')\n",
    "         .getOrCreate()\n",
    "    \n",
    "    )"
   ]
  },
  {
   "cell_type": "code",
   "execution_count": 4,
   "metadata": {},
   "outputs": [],
   "source": [
    "source_file = spark.read.text('../input/log_sample_1M.txt')"
   ]
  },
  {
   "cell_type": "code",
   "execution_count": 10,
   "metadata": {},
   "outputs": [],
   "source": [
    "df_log_analysis = (\n",
    "    source_file\n",
    "    .select(\n",
    "        # f.col('value'),\n",
    "        f.regexp_extract(f.col('value'), r'^([0-9]{1,3}\\.){3}[0-9]{1,3}', 0).alias('ip_address'),\n",
    "        f.regexp_extract(f.col('value'), r'[0-9]{2}\\/[a-zA-Z]{3}\\/\\d{4}:\\d{2}:\\d{2}:\\d{2}\\s-\\d{4}', 0).alias('log_date'),\n",
    "        f.to_timestamp(f.regexp_extract(f.col('value'), r'[0-9]{2}\\/[a-zA-Z]{3}\\/\\d{4}:\\d{2}:\\d{2}:\\d{2}\\s-\\d{4}', 0), 'dd/MMM/yyyy:HH:mm:ss Z').alias('log_date_offseted'),\n",
    "        f.regexp_extract(f.col('value'), r'\\\"(.*?)\\\"', 1).alias('http_request'),\n",
    "        f.regexp_extract(f.col('value'), r'\\\"(\\w*)\\s', 1).alias('http_method'),\n",
    "        f.regexp_extract(f.col('value'), r'HTTP\\/\\d.\\d', 0).alias('http_version'),\n",
    "        f.regexp_extract(f.col('value'), r'(?:\\w*) (\\/.*)\\sHTTP', 1).alias('http_endpoint'),\n",
    "        f.regexp_extract(f.col('value'), r'\\s(\\d{3})\\s([-\\d]*)', 1).alias('http_response_code'),\n",
    "        f.when(f.regexp_extract(f.col('value'), r'\\s(\\d{3})\\s([-\\d]*)', 2) == '-', f.lit(0)).otherwise(f.regexp_extract(f.col('value'), r'\\s(\\d{3})\\s([-\\d]*)', 2)).alias('http_response_size'),\n",
    "    )\n",
    "    .withColumn('is_file', f.when(f.regexp(f.col('http_endpoint'), f.lit(r\"\\.\\w{1,}\")), f.lit(True)).otherwise(f.lit(False)))\n",
    ")"
   ]
  },
  {
   "cell_type": "markdown",
   "metadata": {},
   "source": [
    "#### 1. **Identifique as 10 maiores origens de acesso (Client IP) por quantidade de acessos.**\n"
   ]
  },
  {
   "cell_type": "code",
   "execution_count": 12,
   "metadata": {},
   "outputs": [
    {
     "name": "stderr",
     "output_type": "stream",
     "text": [
      "[Stage 12:>                                                         (0 + 2) / 2]\r"
     ]
    },
    {
     "name": "stdout",
     "output_type": "stream",
     "text": [
      "+---------------+----------------+\n",
      "|     ip_address|access_frequency|\n",
      "+---------------+----------------+\n",
      "|   171.1.108.88|               1|\n",
      "|  115.154.36.83|               1|\n",
      "|  48.221.246.31|               1|\n",
      "|   116.9.218.20|               1|\n",
      "|   191.87.11.48|               1|\n",
      "|  238.227.165.5|               1|\n",
      "|   170.54.65.68|               1|\n",
      "|237.113.118.206|               1|\n",
      "|220.123.138.201|               1|\n",
      "|   52.79.74.246|               1|\n",
      "|221.140.230.155|               1|\n",
      "| 213.49.252.225|               1|\n",
      "|  82.226.76.130|               1|\n",
      "|  196.41.147.81|               1|\n",
      "|  203.135.5.190|               1|\n",
      "| 177.180.133.84|               1|\n",
      "|  192.108.77.54|               1|\n",
      "|    96.53.90.54|               1|\n",
      "|  179.131.53.48|               1|\n",
      "| 139.173.103.94|               1|\n",
      "+---------------+----------------+\n",
      "only showing top 20 rows\n",
      "\n"
     ]
    },
    {
     "name": "stderr",
     "output_type": "stream",
     "text": [
      "                                                                                \r"
     ]
    }
   ],
   "source": [
    "(\n",
    "    df_log_analysis\n",
    "    .groupBy('ip_address')\n",
    "    .agg(f.count('ip_address').alias('access_frequency'))\n",
    "    .show()\n",
    ")"
   ]
  },
  {
   "cell_type": "markdown",
   "metadata": {},
   "source": [
    "### **Desafio:**\n",
    "2. **Liste os 6 endpoints mais acessados, desconsiderando aqueles que representam arquivos.**\n",
    "3. **Qual a quantidade de Client IPs distintos?**\n",
    "4. **Quantos dias de dados estão representados no arquivo?**\n",
    "5. **Com base no tamanho (em bytes) do conteúdo das respostas, faça a seguinte análise:**\n",
    "   - O volume total de dados retornado.\n",
    "   - O maior volume de dados em uma única resposta.\n",
    "   - O menor volume de dados em uma única resposta.\n",
    "   - O volume médio de dados retornado.\n",
    "   - *Dica:* Considere como os dados podem ser categorizados por tipo de resposta para realizar essas análises.\n",
    "6. **Qual o dia da semana com o maior número de erros do tipo \"HTTP Client Error\"?**\n",
    "\n",
    "---\n",
    "\n"
   ]
  },
  {
   "cell_type": "markdown",
   "metadata": {},
   "source": [
    "### **Deployment:**\n",
    "\n",
    "Você tem duas opções para o deployment do seu projeto. Escolha a que preferir para entregar sua solução. Certifique-se de seguir todas as instruções para a opção escolhida.\n",
    "\n",
    "#### **Opção 1: Docker**\n",
    "\n",
    "Se você optar por utilizar **Docker** para o deployment, siga as instruções abaixo:\n",
    "\n",
    "1. **Repositório Github Público:**\n",
    "   - Submeta seu código em um repositório público no GitHub.\n",
    "\n",
    "2. **Arquivo README.md:**\n",
    "   - Incluir um arquivo `README.md` que contenha:\n",
    "      - **Instruções de instalação**: Detalhe as dependências e como configurar o ambiente para rodar o projeto localmente.\n",
    "      - **Instruções de execução**: Explique como rodar o projeto, descrevendo os comandos necessários e como interpretar a saída do programa.\n",
    "\n",
    "3. **Dockerfile:**\n",
    "   - Forneça um `Dockerfile` que contenha todas as dependências necessárias para rodar a aplicação.\n",
    "   - Inclua também um arquivo `docker-compose.yml` que permita rodar o projeto facilmente com um único comando `docker-compose up`.\n",
    "   - O contêiner deve estar pronto para processar o arquivo de log e fornecer as respostas para as questões do desafio.\n",
    "\n",
    "---\n",
    "\n",
    "#### **Opção 2: Databricks Community Edition**\n",
    "\n",
    "Se preferir, você pode utilizar o **Databricks Community Edition** para desenvolver e testar sua solução. Siga as instruções abaixo:\n",
    "\n",
    "1. **Criação da Conta e Configuração do Ambiente:**\n",
    "   - Crie uma conta gratuita em [Databricks Community Edition](https://community.cloud.databricks.com/).\n",
    "   - Importe o arquivo de log para o ambiente do Databricks (você pode fazer upload diretamente ou usar um caminho HTTP para acessá-lo).\n",
    "\n",
    "2. **Notebook:**\n",
    "   - Desenvolva a solução usando um notebook Databricks com o código em **Python** ou **Scala**.\n",
    "   - Certifique-se de que o código está bem estruturado e documentado.\n",
    "\n",
    "3. **Entrega:**\n",
    "   - Inclua um link para o notebook Databricks no seu repositório GitHub ou adicione o código completo diretamente no repositório.\n",
    "   - No arquivo `README.md`, inclua:\n",
    "      - **Instruções de como configurar e executar o código no Databricks**.\n",
    "\n",
    "---\n",
    "\n",
    "### **Seção Opcional: Armazenamento dos Logs**\n",
    "\n",
    "Como uma etapa adicional opcional, você pode gravar os logs processados em um sistema de armazenamento persistente. Se optar por realizar esta etapa, você pode escolher entre gravar os dados em um banco de dados de sua preferência ou utilizar um formato de armazenamento otimizado como o **Delta Lake**.\n",
    "\n",
    "#### **Opção 1: Banco de Dados de Sua Escolha**\n",
    "\n",
    "1. **Escolha do Banco de Dados:**\n",
    "   - Você tem liberdade para escolher o tipo de banco de dados que melhor se adequa à sua solução. Algumas opções incluem:\n",
    "      - **Banco de dados relacional** (ex: PostgreSQL, MySQL).\n",
    "      - **Banco de dados NoSQL** (ex: MongoDB, Elasticsearch).\n",
    "\n",
    "2. **Estruturação dos Dados:**\n",
    "   - Crie uma estrutura de tabelas coerente para armazenar os dados dos logs processados.\n",
    "      - Como você organizaria esses dados? (Por exemplo, uma tabela de requisições HTTP com colunas para Client IP, Endpoint, Status Code, Response Size, etc.)\n",
    "\n",
    "3. **Justificativa:**\n",
    "   - Inclua no `README.md` uma breve justificativa sobre por que escolheu determinado banco de dados e como ele facilita futuras análises.\n",
    "\n",
    "4. **Implementação:**\n",
    "   - Forneça no código a integração com o banco de dados escolhido e mostre como os dados processados são gravados de forma eficiente.\n",
    "\n",
    "#### **Opção 2: Delta Lake (para Databricks)**\n",
    "\n",
    "Se você escolher o **Databricks Community Edition** para o desafio, recomendamos que utilize o **Delta Lake** como sistema de armazenamento, dadas suas vantagens em relação à performance, confiabilidade e versionamento dos dados.\n",
    "\n",
    "1. **Criação da Tabela Delta:**\n",
    "   - Após processar os dados do log, armazene o resultado em uma tabela **Delta**:\n",
    "\n",
    "     ```python\n",
    "     df.write.format(\"delta\").mode(\"overwrite\").save(\"/mnt/delta/logs_delta\")\n",
    "     ```\n",
    "\n",
    "2. **Consulta e Manutenção dos Dados:**\n",
    "   - Utilize comandos Spark SQL ou DataFrame API para consultar e gerenciar a tabela Delta:\n",
    "\n",
    "     ```python\n",
    "     df_delta = spark.read.format(\"delta\").load(\"/mnt/delta/logs_delta\")\n",
    "     df_delta.show()\n",
    "     ```\n",
    "\n",
    "3. **Entrega:**\n",
    "   - Inclua no arquivo `README.md`:\n",
    "      - As instruções para configurar e acessar o Delta Lake.\n",
    "      - Como executar as operações de escrita e leitura com o Delta Lake.\n",
    "\n",
    "---\n",
    "\n",
    "### **Critérios de Avaliação:**\n",
    "\n",
    "1. **Corretude dos Resultados:**\n",
    "   - As respostas para o desafio devem estar corretas, com base nos dados fornecidos no arquivo de log.\n",
    "\n",
    "2. **Eficiência do Código:**\n",
    "   - Avalia-se o uso eficiente do **Apache Spark** para processamento de dados, verificando a capacidade de lidar com grandes volumes de dados e realizar operações de maneira eficiente.\n",
    "\n",
    "3. **Clareza e Organização do Código:**\n",
    "   - O código deve ser claro, bem organizado, e seguir boas práticas de programação, como modularização, reutilização de funções e comentários explicativos onde necessário.\n",
    "\n",
    "4. **Documentação:**\n",
    "   - O arquivo `README.md` deve ser completo e bem estruturado, contendo instruções claras sobre:\n",
    "      - Instalação e configuração do ambiente.\n",
    "      - Execução do projeto.\n",
    "      - Explicações sobre a escolha das tecnologias e banco de dados (se aplicável).\n",
    "\n",
    "5. **Deployment (Docker ou Databricks):**\n",
    "   - **Para Docker:**\n",
    "      - O `Dockerfile` e o `docker-compose.yml` devem estar corretamente configurados, permitindo que o projeto seja executado de maneira fácil com o comando `docker-compose up`.\n",
    "   - **Para Databricks:**\n",
    "      - O notebook deve ser bem estruturado e funcional, com as instruções para execução no Databricks Community Edition claramente descritas no `README.md`.\n",
    "\n",
    "6. **Manutenção e Escalabilidade:**\n",
    "   - Avaliação da facilidade de manutenção do código e da preparação para cenários de escalabilidade, como aumento no volume de dados ou necessidade de processamento mais complexo.\n",
    "\n",
    "7. **Entrega e Organização do Repositório:**\n",
    "   - O repositório no GitHub deve ser organizado, com commits descritivos, pastas claras, e arquivos adequadamente nomeados, facilitando a navegação.\n",
    "\n",
    "8. **Testes:**\n",
    "   - Implementação de testes unitários para as funções principais será um diferencial importante. A cobertura de código em termos de testes será levada em consideração.\n",
    "\n",
    "9. **Seção Opcional de Armazenamento:**\n",
    "   - **Para Banco de Dados:**\n",
    "      - Avaliação da estruturação correta das tabelas, justificação da escolha do banco de dados, e eficiência na integração e gravação dos dados processados.\n",
    "   - **Para Delta Lake (Databricks):**\n",
    "      - Avaliação da correta implementação e utilização do **Delta Lake**, incluindo a criação da tabela Delta, consultas, e manutenção dos dados.\n",
    "\n",
    "10. **Criatividade e Soluções Alternativas:**\n",
    "    - Soluções inovadoras ou criativas para o problema, bem como a utilização de técnicas e ferramentas que não foram explicitamente mencionadas, serão consideradas um diferencial.\n"
   ]
  }
 ],
 "metadata": {
  "kernelspec": {
   "display_name": "Python 3",
   "language": "python",
   "name": "python3"
  },
  "language_info": {
   "codemirror_mode": {
    "name": "ipython",
    "version": 3
   },
   "file_extension": ".py",
   "mimetype": "text/x-python",
   "name": "python",
   "nbconvert_exporter": "python",
   "pygments_lexer": "ipython3",
   "version": "3.12.1"
  }
 },
 "nbformat": 4,
 "nbformat_minor": 2
}
